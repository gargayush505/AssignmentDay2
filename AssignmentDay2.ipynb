{
 "cells": [
  {
   "cell_type": "code",
   "execution_count": 1,
   "metadata": {},
   "outputs": [
    {
     "name": "stdout",
     "output_type": "stream",
     "text": [
      "1\n",
      "odd\n",
      "[1]\n",
      "2\n",
      "even\n",
      "[1, 2]\n",
      "3\n",
      "odd\n",
      "[1, 2, 3]\n",
      "4\n",
      "even\n",
      "[1, 2, 3, 4]\n",
      "5\n",
      "odd\n",
      "[1, 2, 3, 4, 5]\n",
      "6\n",
      "even\n",
      "[1, 2, 3, 4, 5, 6]\n",
      "7\n",
      "odd\n",
      "[1, 2, 3, 4, 5, 6, 7]\n",
      "8\n",
      "even\n",
      "[1, 2, 3, 4, 5, 6, 7, 8]\n",
      "9\n",
      "odd\n",
      "[1, 2, 3, 4, 5, 6, 7, 8, 9]\n",
      "10\n",
      "even\n",
      "[1, 2, 3, 4, 5, 6, 7, 8, 9, 10]\n"
     ]
    }
   ],
   "source": [
    "#ANS1)\n",
    "\n",
    "x=[]\n",
    "i=0\n",
    "while i<10:\n",
    "    y=input()\n",
    "    a=int(y)\n",
    "    if(a%2==0):\n",
    "        print(\"even\")\n",
    "    else:\n",
    "        print(\"odd\")\n",
    "    \n",
    "    b=x.append(a)\n",
    "    print(x)\n",
    "    i+=1"
   ]
  },
  {
   "cell_type": "code",
   "execution_count": 3,
   "metadata": {},
   "outputs": [
    {
     "name": "stdout",
     "output_type": "stream",
     "text": [
      "['a', 'y', 'u', 's', 'h']\n"
     ]
    }
   ],
   "source": [
    "#ANS2)\n",
    "\n",
    "w=[z for z in \"ayush\"]\n",
    "print(w)"
   ]
  },
  {
   "cell_type": "code",
   "execution_count": 4,
   "metadata": {},
   "outputs": [
    {
     "name": "stdout",
     "output_type": "stream",
     "text": [
      "4\n",
      "{4: 16}\n"
     ]
    }
   ],
   "source": [
    "#ANS3)\n",
    "h=input()\n",
    "i=int(h)\n",
    "d={i:i*i}\n",
    "print(d)"
   ]
  },
  {
   "cell_type": "code",
   "execution_count": null,
   "metadata": {},
   "outputs": [],
   "source": []
  },
  {
   "cell_type": "code",
   "execution_count": null,
   "metadata": {},
   "outputs": [],
   "source": []
  }
 ],
 "metadata": {
  "kernelspec": {
   "display_name": "Python 3",
   "language": "python",
   "name": "python3"
  },
  "language_info": {
   "codemirror_mode": {
    "name": "ipython",
    "version": 3
   },
   "file_extension": ".py",
   "mimetype": "text/x-python",
   "name": "python",
   "nbconvert_exporter": "python",
   "pygments_lexer": "ipython3",
   "version": "3.7.6"
  }
 },
 "nbformat": 4,
 "nbformat_minor": 4
}
